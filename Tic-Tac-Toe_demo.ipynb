{
 "cells": [
  {
   "cell_type": "code",
   "execution_count": 3,
   "metadata": {
    "collapsed": false
   },
   "outputs": [
    {
     "data": {
      "text/html": [
       "\n",
       "<style>\n",
       "\n",
       "div.cell { /* Tunes the space between cells */\n",
       "margin-top:1em;\n",
       "margin-bottom:1em;\n",
       "}\n",
       "\n",
       "div.text_cell_render h1 { /* Main titles bigger, centered */\n",
       "font-size: 2.2em;\n",
       "line-height:1.4em;\n",
       "text-align:center;\n",
       "}\n",
       "\n",
       "div.text_cell_render h2 { /*  Parts names nearer from text */\n",
       "margin-bottom: -0.4em;\n",
       "}\n",
       "\n",
       "\n",
       "div.text_cell_render { /* Customize text cells */\n",
       "font-family: 'Times New Roman';\n",
       "font-size:1.5em;\n",
       "line-height:1.4em;\n",
       "padding-left:3em;\n",
       "padding-right:3em;\n",
       "}\n",
       "</style>\n"
      ],
      "text/plain": [
       "<IPython.core.display.HTML object>"
      ]
     },
     "execution_count": 3,
     "metadata": {},
     "output_type": "execute_result"
    }
   ],
   "source": [
    "from IPython.core.display import HTML\n",
    "HTML(\"\"\"\n",
    "<style>\n",
    "\n",
    "div.cell { /* Tunes the space between cells */\n",
    "margin-top:1em;\n",
    "margin-bottom:1em;\n",
    "}\n",
    "\n",
    "div.text_cell_render h1 { /* Main titles bigger, centered */\n",
    "font-size: 2.2em;\n",
    "line-height:1.4em;\n",
    "text-align:center;\n",
    "}\n",
    "\n",
    "div.text_cell_render h2 { /*  Parts names nearer from text */\n",
    "margin-bottom: -0.4em;\n",
    "}\n",
    "\n",
    "\n",
    "div.text_cell_render { /* Customize text cells */\n",
    "font-family: 'Times New Roman';\n",
    "font-size:1.5em;\n",
    "line-height:1.4em;\n",
    "padding-left:3em;\n",
    "padding-right:3em;\n",
    "}\n",
    "</style>\n",
    "\"\"\")"
   ]
  },
  {
   "cell_type": "code",
   "execution_count": 10,
   "metadata": {
    "collapsed": false
   },
   "outputs": [],
   "source": [
    "import numpy as np\n",
    "import sknn\n",
    "from sknn import mlp\n",
    "import tic_tac_toe as ttt\n",
    "from numpy import random\n",
    "import IPython\n",
    "import matplotlib as mpl\n",
    "import matplotlib.pyplot as plt\n",
    "import pickle\n",
    "%matplotlib inline\n",
    "plt.rcParams['figure.figsize'] = (12, 12)\n",
    "\n"
   ]
  },
  {
   "cell_type": "code",
   "execution_count": 11,
   "metadata": {
    "collapsed": false
   },
   "outputs": [
    {
     "ename": "IOError",
     "evalue": "[Errno 2] No such file or directory: 'value_policy_3.pkl'",
     "output_type": "error",
     "traceback": [
      "\u001b[1;31m---------------------------------------------------------------------------\u001b[0m",
      "\u001b[1;31mIOError\u001b[0m                                   Traceback (most recent call last)",
      "\u001b[1;32m<ipython-input-11-31f4f5d6b030>\u001b[0m in \u001b[0;36m<module>\u001b[1;34m()\u001b[0m\n\u001b[1;32m----> 1\u001b[1;33m \u001b[1;32mwith\u001b[0m \u001b[0mopen\u001b[0m\u001b[1;33m(\u001b[0m\u001b[1;34m'value_policy_3.pkl'\u001b[0m\u001b[1;33m,\u001b[0m\u001b[1;34m'rb'\u001b[0m\u001b[1;33m)\u001b[0m \u001b[1;32mas\u001b[0m \u001b[0mfile_\u001b[0m\u001b[1;33m:\u001b[0m\u001b[1;33m\u001b[0m\u001b[0m\n\u001b[0m\u001b[0;32m      2\u001b[0m     \u001b[0mvalue\u001b[0m\u001b[1;33m,\u001b[0m\u001b[0mpolicy\u001b[0m \u001b[1;33m=\u001b[0m \u001b[0mpickle\u001b[0m\u001b[1;33m.\u001b[0m\u001b[0mload\u001b[0m\u001b[1;33m(\u001b[0m\u001b[0mfile_\u001b[0m\u001b[1;33m)\u001b[0m\u001b[1;33m\u001b[0m\u001b[0m\n",
      "\u001b[1;31mIOError\u001b[0m: [Errno 2] No such file or directory: 'value_policy_3.pkl'"
     ]
    }
   ],
   "source": [
    "with open('value_policy_3.pkl','rb') as file_:\n",
    "    value,policy = pickle.load(file_)"
   ]
  },
  {
   "cell_type": "code",
   "execution_count": 12,
   "metadata": {
    "collapsed": false
   },
   "outputs": [
    {
     "name": "stderr",
     "output_type": "stream",
     "text": [
      "/opt/conda/lib/python2.7/site-packages/theano/tensor/signal/downsample.py:6: UserWarning: downsample module has been moved to the theano.tensor.signal.pool module.\n",
      "  \"downsample module has been moved to the theano.tensor.signal.pool module.\")\n"
     ]
    },
    {
     "data": {
      "text/plain": [
       "Regressor(batch_size=10, callback=None, debug=False, dropout_rate=None,\n",
       "     f_stable=0.001,\n",
       "     hidden0=<sknn.nn.Layer `Rectifier`: units=1000, name=u'hidden0', frozen=False>,\n",
       "     layers=[<sknn.nn.Layer `Rectifier`: units=1000, name=u'hidden0', frozen=False>, <sknn.nn.Layer `Tanh`: units=9, name=u'output', frozen=False, dropout=0.0>],\n",
       "     learning_momentum=0.9, learning_rate=0.01, learning_rule=u'sgd',\n",
       "     loss_type=None, n_iter=1, n_stable=10, normalize=None,\n",
       "     output=<sknn.nn.Layer `Tanh`: units=9, name=u'output', frozen=False, dropout=0.0>,\n",
       "     parameters=None, random_state=None, regularize=None, valid_set=None,\n",
       "     valid_size=0.0, verbose=None, warning=None, weight_decay=None)"
      ]
     },
     "execution_count": 12,
     "metadata": {},
     "output_type": "execute_result"
    }
   ],
   "source": [
    "value = mlp.Regressor([mlp.Layer('Rectifier',units = 200),\n",
    "               mlp.Layer('Tanh',units = 1)],\n",
    "              learning_rate = 0.001,\n",
    "              batch_size = 1,\n",
    "              n_iter = 1)\n",
    "value.fit(np.zeros((16,9)) , np.zeros(16))\n",
    "\n",
    "policy = mlp.Regressor([mlp.Layer('Rectifier',units = 1000),\n",
    "                        #mlp.Layer('Rectifier',units = 250),\n",
    "               mlp.Layer('Tanh',units = 9,dropout=0.)],\n",
    "              learning_rate = 0.01,\n",
    "              batch_size = 10,\n",
    "              n_iter = 1)\n",
    "policy.fit(np.zeros((1,9)) , np.zeros((1,9)))"
   ]
  },
  {
   "cell_type": "code",
   "execution_count": 13,
   "metadata": {
    "collapsed": false
   },
   "outputs": [],
   "source": [
    "Temp = 0.1\n",
    "class value_bot():\n",
    "    def __init__(self, value):\n",
    "        self.value = value\n",
    "    def make_move(self,board,turn):\n",
    "        return value_move(board,turn,self.value)\n",
    "def value_move(board,turn,value):\n",
    "    board = np.copy(board)\n",
    "    if turn == -1:\n",
    "        board = -1 * board\n",
    "    options = ttt.available_moves(board)\n",
    "    values = {}\n",
    "    for move in options:\n",
    "        ttt.update_move(board,move,1)\n",
    "        if ttt.is_over(board):\n",
    "            values[move] = ttt.winner(board)\n",
    "        else:\n",
    "            values[move] = -1 * value.predict(-1 * board.reshape((1,9)))[0]\n",
    "        ttt.unupdate_move(board,move)\n",
    "    action_values = values.items()\n",
    "    probs = softmax(np.array(zip(*action_values)[1]))\n",
    "    r = random.random()\n",
    "    for i in range(len(probs)):\n",
    "        r-=probs[i]\n",
    "        if r <0:\n",
    "            move = i\n",
    "            break\n",
    "    return action_values[move]\n",
    "        \n",
    "class policy_bot():\n",
    "    def __init__(self, policy):\n",
    "        self.policy = policy\n",
    "    def make_move(self,board,turn):\n",
    "        return policy_move(board,turn,self.policy)\n",
    "def policy_move(board,turn,policy):\n",
    "    board = np.copy(board)\n",
    "    if turn == -1:\n",
    "        board = -1 * board\n",
    "    action_values = zip(range(9),list(policy.predict(board.reshape(1,(9)))[0]))\n",
    "    #print action_values\n",
    "    probs = softmax(np.array(zip(*action_values)[1]))\n",
    "    #print probs\n",
    "    r = random.random()\n",
    "    for i in range(len(probs)):\n",
    "        r-=probs[i]\n",
    "        if r <0:\n",
    "            move = i\n",
    "            break\n",
    "    return action_values[move]\n",
    "\n",
    "def sym_policy(state,policy):\n",
    "    state = state.reshape((3,3))\n",
    "    states = [np.copy(state), np.copy(state.T)]\n",
    "    for i in range(3):\n",
    "        state = np.rot90(state)\n",
    "        states += [np.copy(state),np.copy(state.T)]\n",
    "    states = np.array(states)\n",
    "    pols = policy.predict(states).reshape(8,3,3)\n",
    "    pols[1] = pols[1].T\n",
    "    pols[2] = np.rot90(pols[2],3)\n",
    "    pols[3] = np.rot90(pols[3].T,3)\n",
    "    pols[4] = np.rot90(pols[4],2)\n",
    "    pols[5] = np.rot90(pols[5].T,2)\n",
    "    pols[6] = np.rot90(pols[6],1)\n",
    "    pols[7] = np.rot90(pols[7].T,1)\n",
    "    vals = sum(pols) * 0.125\n",
    "    return vals\n",
    "    \n",
    "def softmax(ar):\n",
    "#    print ar\n",
    "    ar -= np.max(ar)\n",
    "    exp = np.exp(ar / Temp)\n",
    "    return exp / np.sum(exp)"
   ]
  },
  {
   "cell_type": "code",
   "execution_count": 14,
   "metadata": {
    "collapsed": true
   },
   "outputs": [],
   "source": [
    "replay = []\n",
    "history = []\n",
    "discount = 1\n",
    "X_train= []\n",
    "y_train=[]\n",
    "rewards = []\n",
    "actions = []"
   ]
  },
  {
   "cell_type": "code",
   "execution_count": 15,
   "metadata": {
    "collapsed": false
   },
   "outputs": [
    {
     "data": {
      "image/png": "[encoded data removed]",
      "text/plain": [
       "<matplotlib.figure.Figure at 0x7f7e6c905150>"
      ]
     },
     "metadata": {},
     "output_type": "display_data"
    },
    {
     "name": "stdout",
     "output_type": "stream",
     "text": [
      "Traceback (most recent call last):\n",
      "  File \"/opt/conda/lib/python2.7/site-packages/IPython/core/ultratb.py\", line 1120, in get_records\n",
      "    return _fixed_getinnerframes(etb, number_of_lines_of_context, tb_offset)\n",
      "  File \"/opt/conda/lib/python2.7/site-packages/IPython/core/ultratb.py\", line 301, in wrapped\n",
      "    return f(*args, **kwargs)\n",
      "  File \"/opt/conda/lib/python2.7/site-packages/IPython/core/ultratb.py\", line 364, in _fixed_getinnerframes\n",
      "    lines = ulinecache.getlines(file)[start:end]\n",
      "  File \"/opt/conda/lib/python2.7/site-packages/IPython/utils/ulinecache.py\", line 37, in getlines\n",
      "    return [l.decode(encoding, 'replace') for l in lines]\n",
      "  File \"/opt/conda/lib/python2.7/encodings/utf_8.py\", line 16, in decode\n",
      "    return codecs.utf_8_decode(input, errors, True)\n",
      "KeyboardInterrupt\n"
     ]
    },
    {
     "name": "stderr",
     "output_type": "stream",
     "text": [
      "ERROR: Internal Python error in the inspect module.\n",
      "Below is the traceback from this internal error.\n",
      "\n",
      "\n",
      "Unfortunately, your original traceback can not be constructed.\n",
      "\n"
     ]
    },
    {
     "ename": "IndexError",
     "evalue": "string index out of range",
     "output_type": "error",
     "traceback": [
      "\u001b[1;31m---------------------------------------------------------------------------\u001b[0m",
      "\u001b[1;31mIndexError\u001b[0m                                Traceback (most recent call last)",
      "\u001b[1;32m/opt/conda/lib/python2.7/site-packages/IPython/core/interactiveshell.pyc\u001b[0m in \u001b[0;36mrun_code\u001b[1;34m(self, code_obj, result)\u001b[0m\n\u001b[0;32m   2900\u001b[0m             \u001b[1;32mif\u001b[0m \u001b[0mresult\u001b[0m \u001b[1;32mis\u001b[0m \u001b[1;32mnot\u001b[0m \u001b[0mNone\u001b[0m\u001b[1;33m:\u001b[0m\u001b[1;33m\u001b[0m\u001b[0m\n\u001b[0;32m   2901\u001b[0m                 \u001b[0mresult\u001b[0m\u001b[1;33m.\u001b[0m\u001b[0merror_in_exec\u001b[0m \u001b[1;33m=\u001b[0m \u001b[0msys\u001b[0m\u001b[1;33m.\u001b[0m\u001b[0mexc_info\u001b[0m\u001b[1;33m(\u001b[0m\u001b[1;33m)\u001b[0m\u001b[1;33m[\u001b[0m\u001b[1;36m1\u001b[0m\u001b[1;33m]\u001b[0m\u001b[1;33m\u001b[0m\u001b[0m\n\u001b[1;32m-> 2902\u001b[1;33m             \u001b[0mself\u001b[0m\u001b[1;33m.\u001b[0m\u001b[0mshowtraceback\u001b[0m\u001b[1;33m(\u001b[0m\u001b[1;33m)\u001b[0m\u001b[1;33m\u001b[0m\u001b[0m\n\u001b[0m\u001b[0;32m   2903\u001b[0m         \u001b[1;32melse\u001b[0m\u001b[1;33m:\u001b[0m\u001b[1;33m\u001b[0m\u001b[0m\n\u001b[0;32m   2904\u001b[0m             \u001b[0moutflag\u001b[0m \u001b[1;33m=\u001b[0m \u001b[1;36m0\u001b[0m\u001b[1;33m\u001b[0m\u001b[0m\n",
      "\u001b[1;32m/opt/conda/lib/python2.7/site-packages/IPython/core/interactiveshell.pyc\u001b[0m in \u001b[0;36mshowtraceback\u001b[1;34m(self, exc_tuple, filename, tb_offset, exception_only)\u001b[0m\n\u001b[0;32m   1828\u001b[0m                     \u001b[1;32mexcept\u001b[0m \u001b[0mException\u001b[0m\u001b[1;33m:\u001b[0m\u001b[1;33m\u001b[0m\u001b[0m\n\u001b[0;32m   1829\u001b[0m                         stb = self.InteractiveTB.structured_traceback(etype,\n\u001b[1;32m-> 1830\u001b[1;33m                                             value, tb, tb_offset=tb_offset)\n\u001b[0m\u001b[0;32m   1831\u001b[0m \u001b[1;33m\u001b[0m\u001b[0m\n\u001b[0;32m   1832\u001b[0m                     \u001b[0mself\u001b[0m\u001b[1;33m.\u001b[0m\u001b[0m_showtraceback\u001b[0m\u001b[1;33m(\u001b[0m\u001b[0metype\u001b[0m\u001b[1;33m,\u001b[0m \u001b[0mvalue\u001b[0m\u001b[1;33m,\u001b[0m \u001b[0mstb\u001b[0m\u001b[1;33m)\u001b[0m\u001b[1;33m\u001b[0m\u001b[0m\n",
      "\u001b[1;32m/opt/conda/lib/python2.7/site-packages/IPython/core/ultratb.pyc\u001b[0m in \u001b[0;36mstructured_traceback\u001b[1;34m(self, etype, value, tb, tb_offset, number_of_lines_of_context)\u001b[0m\n\u001b[0;32m   1392\u001b[0m         \u001b[0mself\u001b[0m\u001b[1;33m.\u001b[0m\u001b[0mtb\u001b[0m \u001b[1;33m=\u001b[0m \u001b[0mtb\u001b[0m\u001b[1;33m\u001b[0m\u001b[0m\n\u001b[0;32m   1393\u001b[0m         return FormattedTB.structured_traceback(\n\u001b[1;32m-> 1394\u001b[1;33m             self, etype, value, tb, tb_offset, number_of_lines_of_context)\n\u001b[0m\u001b[0;32m   1395\u001b[0m \u001b[1;33m\u001b[0m\u001b[0m\n\u001b[0;32m   1396\u001b[0m \u001b[1;33m\u001b[0m\u001b[0m\n",
      "\u001b[1;32m/opt/conda/lib/python2.7/site-packages/IPython/core/ultratb.pyc\u001b[0m in \u001b[0;36mstructured_traceback\u001b[1;34m(self, etype, value, tb, tb_offset, number_of_lines_of_context)\u001b[0m\n\u001b[0;32m   1300\u001b[0m             \u001b[1;31m# Verbose modes need a full traceback\u001b[0m\u001b[1;33m\u001b[0m\u001b[1;33m\u001b[0m\u001b[0m\n\u001b[0;32m   1301\u001b[0m             return VerboseTB.structured_traceback(\n\u001b[1;32m-> 1302\u001b[1;33m                 \u001b[0mself\u001b[0m\u001b[1;33m,\u001b[0m \u001b[0metype\u001b[0m\u001b[1;33m,\u001b[0m \u001b[0mvalue\u001b[0m\u001b[1;33m,\u001b[0m \u001b[0mtb\u001b[0m\u001b[1;33m,\u001b[0m \u001b[0mtb_offset\u001b[0m\u001b[1;33m,\u001b[0m \u001b[0mnumber_of_lines_of_context\u001b[0m\u001b[1;33m\u001b[0m\u001b[0m\n\u001b[0m\u001b[0;32m   1303\u001b[0m             )\n\u001b[0;32m   1304\u001b[0m         \u001b[1;32melse\u001b[0m\u001b[1;33m:\u001b[0m\u001b[1;33m\u001b[0m\u001b[0m\n",
      "\u001b[1;32m/opt/conda/lib/python2.7/site-packages/IPython/core/ultratb.pyc\u001b[0m in \u001b[0;36mstructured_traceback\u001b[1;34m(self, etype, evalue, etb, tb_offset, number_of_lines_of_context)\u001b[0m\n\u001b[0;32m   1184\u001b[0m                 \u001b[0mstructured_traceback_parts\u001b[0m \u001b[1;33m+=\u001b[0m \u001b[0mformatted_exception\u001b[0m\u001b[1;33m\u001b[0m\u001b[0m\n\u001b[0;32m   1185\u001b[0m         \u001b[1;32melse\u001b[0m\u001b[1;33m:\u001b[0m\u001b[1;33m\u001b[0m\u001b[0m\n\u001b[1;32m-> 1186\u001b[1;33m             \u001b[0mstructured_traceback_parts\u001b[0m \u001b[1;33m+=\u001b[0m \u001b[0mformatted_exception\u001b[0m\u001b[1;33m[\u001b[0m\u001b[1;36m0\u001b[0m\u001b[1;33m]\u001b[0m\u001b[1;33m\u001b[0m\u001b[0m\n\u001b[0m\u001b[0;32m   1187\u001b[0m \u001b[1;33m\u001b[0m\u001b[0m\n\u001b[0;32m   1188\u001b[0m         \u001b[1;32mreturn\u001b[0m \u001b[0mstructured_traceback_parts\u001b[0m\u001b[1;33m\u001b[0m\u001b[0m\n",
      "\u001b[1;31mIndexError\u001b[0m: string index out of range"
     ]
    },
    {
     "ename": "KeyboardInterrupt",
     "evalue": "",
     "output_type": "error",
     "traceback": [
      "Traceback (most recent call last):\n",
      "  File \"/opt/conda/lib/python2.7/site-packages/ipykernel/ipkernel.py\", line 199, in do_execute\n    shell.run_cell(code, store_history=store_history, silent=silent)\n",
      "  File \"/opt/conda/lib/python2.7/site-packages/IPython/core/interactiveshell.py\", line 2729, in run_cell\n    self.events.trigger('post_execute')\n",
      "  File \"/opt/conda/lib/python2.7/site-packages/IPython/core/events.py\", line 74, in trigger\n    func(*args, **kwargs)\n",
      "  File \"/opt/conda/lib/python2.7/site-packages/matplotlib/pyplot.py\", line 147, in post_execute\n    draw_all()\n",
      "  File \"/opt/conda/lib/python2.7/site-packages/matplotlib/_pylab_helpers.py\", line 150, in draw_all\n    f_mgr.canvas.draw_idle()\n",
      "  File \"/opt/conda/lib/python2.7/site-packages/matplotlib/backend_bases.py\", line 2026, in draw_idle\n    self.draw(*args, **kwargs)\n",
      "  File \"/opt/conda/lib/python2.7/site-packages/matplotlib/backends/backend_agg.py\", line 474, in draw\n    self.figure.draw(self.renderer)\n",
      "  File \"/opt/conda/lib/python2.7/site-packages/matplotlib/artist.py\", line 61, in draw_wrapper\n    draw(artist, renderer, *args, **kwargs)\n",
      "  File \"/opt/conda/lib/python2.7/site-packages/matplotlib/figure.py\", line 1159, in draw\n    func(*args)\n",
      "  File \"/opt/conda/lib/python2.7/site-packages/matplotlib/artist.py\", line 61, in draw_wrapper\n    draw(artist, renderer, *args, **kwargs)\n",
      "  File \"/opt/conda/lib/python2.7/site-packages/matplotlib/axes/_base.py\", line 2324, in draw\n    a.draw(renderer)\n",
      "  File \"/opt/conda/lib/python2.7/site-packages/matplotlib/artist.py\", line 61, in draw_wrapper\n    draw(artist, renderer, *args, **kwargs)\n",
      "  File \"/opt/conda/lib/python2.7/site-packages/matplotlib/image.py\", line 389, in draw\n    im = self.make_image(renderer.get_image_magnification())\n",
      "  File \"/opt/conda/lib/python2.7/site-packages/matplotlib/image.py\", line 624, in make_image\n    transformed_viewLim)\n",
      "  File \"/opt/conda/lib/python2.7/site-packages/matplotlib/image.py\", line 179, in _get_unsampled_image\n    if viewlim.width == 0.0 and dxintv == 0.0:\n",
      "  File \"/opt/conda/lib/python2.7/site-packages/matplotlib/transforms.py\", line 381, in _get_width\n    points = self.get_points()\n",
      "  File \"/opt/conda/lib/python2.7/site-packages/matplotlib/transforms.py\", line 1092, in get_points\n    points = self._transform.transform(self._bbox.get_points())\n",
      "  File \"/opt/conda/lib/python2.7/site-packages/matplotlib/transforms.py\", line 1023, in get_points\n    return self._points\n",
      "KeyboardInterrupt\n"
     ]
    }
   ],
   "source": [
    "import time\n",
    "f, ((ax11, ax12 ,ax13,ax14),(ax21, ax22 ,ax23,ax24),(ax31, ax32 ,ax33,ax34)) = plt.subplots(3, 4, sharey=True)\n",
    "#f.suptitle(\"Games Played: {:d}\".format(game),fontsize = 36)\n",
    "\n",
    "axes = []\n",
    "for i in range(1,13):\n",
    "    axes.append(plt.subplot(3,4,i, aspect='equal', adjustable='box-forced'))\n",
    "for game in range(1000000):\n",
    "    \n",
    "        \n",
    "    result = {'log' : [],\n",
    "              'winner' : None,\n",
    "              'boards' :[]}\n",
    "    board = ttt.empty_board()\n",
    "    turn = 1\n",
    "    t0 = time.clock()\n",
    "    while not ttt.is_over(board):\n",
    "        result['boards'].append(np.copy(board))\n",
    "        old_board = np.copy(board)\n",
    "        action,_ = policy_move(board,1,policy)\n",
    "        result['log'] += [action]\n",
    "        if board[action] == 0:\n",
    "            ttt.update_move(board,action,1)\n",
    "        else:\n",
    "            result['winner'] = -1*turn*2\n",
    "            break\n",
    "        if ttt.is_over(board):\n",
    "            result['winner'] = turn * ttt.winner(board)\n",
    "        board = -1 * board\n",
    "        turn =  -1 * turn\n",
    "    t1 = time.clock()\n",
    "    \n",
    "#     history.append(result)\n",
    "    train_index = random.randint(0, len(result['log']))\n",
    "    train_action = result['log'][train_index]\n",
    "    train_board = result['boards'][train_index]\n",
    "    reward = result['winner'] * (1 - (train_index%2) * 2)  #swap result if board is from player 2's perspective\n",
    "    \n",
    "    ############################################################\n",
    "    #################### train on the result ###################\n",
    "    ############################################################\n",
    "\n",
    "    X_train.append(train_board)\n",
    "    rewards.append(reward)\n",
    "    actions.append(train_action)\n",
    "    \n",
    "    if len(X_train) >=100:\n",
    "        y_train = map(lambda x: policy.predict(x.reshape((1,9)))[0] , X_train)\n",
    "        for i , tar in enumerate(y_train):\n",
    "            tar[actions[i]] = rewards[i]\n",
    "        \n",
    "        #replay += zip(X_train,y_train)\n",
    "        \n",
    "        policy.fit(np.array(X_train),np.array(y_train))\n",
    "        value.fit(np.array(X_train),np.array(rewards))\n",
    "        X_train = []\n",
    "        rewards = []\n",
    "        actions = []\n",
    "    t2 = time.clock()\n",
    "    #print 'game time = {}, train time = {}'.format(t1-t0,t2-t1)\n",
    "    \n",
    "    if game%1000 == 0:\n",
    "        f.suptitle(\"Games Played: {:d}\".format(game),fontsize = 36)\n",
    "        for ax in axes:\n",
    "            ax.cla()\n",
    "        \n",
    "        state = np.array([0,0,0,0,-1,0,0,0,0]).reshape((3,3))\n",
    "        answer = np.array([0,-1,0,-1,-1,-1,0,-1,0]).reshape((3,3))\n",
    "        opinion = policy.predict(state.reshape((1,9)))[0].reshape((3,3))\n",
    "\n",
    "        sym = sym_policy(state,policy)\n",
    "                \n",
    "        \n",
    "        #plt.figure(1)\n",
    "\n",
    "        axes[0].matshow(state,vmin=-1,vmax=1,cmap = 'seismic')\n",
    "        #ax1.set_aspect('equal')\n",
    "        #plt.figure(2)\n",
    "        \n",
    "        axes[1].matshow(opinion,vmin=-1,vmax=1,cmap = 'seismic_r')\n",
    "        \n",
    "        \n",
    "        axes[2].matshow(sym,vmin=-1,vmax=1,cmap = 'seismic_r')\n",
    "        #ax1.set_aspect('equal')\n",
    "        \n",
    "        axes[3].matshow(answer,vmin=-1,vmax=1,cmap = 'seismic_r')\n",
    "        state = np.array([-1,0,-1,0,0,0,1,1,0]).reshape((3,3))\n",
    "        answer = np.array([-1,discount**2,-1,-discount,-discount,-discount,-1,-1,1]).reshape((3,3))\n",
    "        opinion = policy.predict(state.reshape((1,9)))[0].reshape((3,3))\n",
    "        sym = sym_policy(state,policy)\n",
    "        \n",
    "        #plt.figure(1)\n",
    "        axes[4].matshow(state,vmin=-1,vmax=1,cmap = 'seismic')\n",
    "        #ax1.set_aspect('equal')\n",
    "        #plt.figure(2)\n",
    "        axes[5].matshow(opinion,vmin=-1,vmax=1,cmap = 'seismic_r')\n",
    "        \n",
    "        axes[6].matshow(sym,vmin=-1,vmax=1,cmap = 'seismic_r')\n",
    "        #ax1.set_aspect('equal')\n",
    "        axes[7].matshow(answer,vmin=-1,vmax=1,cmap = 'seismic_r')\n",
    "        state = np.array([-1,0,-1,-1,1,1,1,1,-1]).reshape((3,3))\n",
    "        answer = np.array([-1,1,-1,-1,-1,-1,-1,-1,-1]).reshape((3,3))\n",
    "        opinion = policy.predict(state.reshape((1,9)))[0].reshape((3,3))\n",
    "        sym = sym_policy(state,policy)\n",
    "        #plt.figure(1)\n",
    "        axes[8].matshow(state,vmin=-1,vmax=1,cmap = 'seismic')\n",
    "        #ax1.set_aspect('equal')\n",
    "        #plt.figure(2)\n",
    "        axes[9].matshow(opinion,vmin=-1,vmax=1,cmap = 'seismic_r')\n",
    "        \n",
    "        axes[10].matshow(sym,vmin=-1,vmax=1,cmap = 'seismic_r')\n",
    "        #ax1.set_aspect('equal')\n",
    "        axes[11].matshow(answer,vmin=-1,vmax=1,cmap = 'seismic_r')\n",
    "        IPython.display.clear_output(wait=True)\n",
    "        IPython.display.display(plt.gcf())\n",
    "        \n",
    "        with open('value_policy3.pkl','wb') as file_:\n",
    "            pickle.dump((value,policy),file_)"
   ]
  },
  {
   "cell_type": "code",
   "execution_count": null,
   "metadata": {
    "collapsed": false
   },
   "outputs": [],
   "source": [
    "with open('value_policy3.pkl','rb') as file_:\n",
    "    value,policy = pickle.load(file_)\n",
    "    \n",
    "f,_ = plt.subplots(3, 4, sharey=True)   \n",
    "axes = []\n",
    "for i in range(1,13):\n",
    "    axes.append(plt.subplot(3,4,i, aspect='equal', adjustable='box-forced'))\n",
    "f.suptitle(\"Games Played: {:d}\".format(game),fontsize = 36)\n",
    "for ax in axes:\n",
    "    ax.cla()\n",
    "\n",
    "state = np.array([0,0,0,0,-1,0,0,0,0]).reshape((3,3))\n",
    "answer = np.array([0,-1,0,-1,-1,-1,0,-1,0]).reshape((3,3))\n",
    "opinion = policy.predict(state.reshape((1,9)))[0].reshape((3,3))\n",
    "\n",
    "sym = sym_policy(state,policy)\n",
    "\n",
    "\n",
    "#plt.figure(1)\n",
    "\n",
    "axes[0].matshow(state,vmin=-1,vmax=1,cmap = 'seismic')\n",
    "#ax1.set_aspect('equal')\n",
    "#plt.figure(2)\n",
    "\n",
    "axes[1].matshow(opinion,vmin=-1,vmax=1,cmap = 'seismic_r')\n",
    "\n",
    "\n",
    "axes[2].matshow(sym,vmin=-1,vmax=1,cmap = 'seismic_r')\n",
    "#ax1.set_aspect('equal')\n",
    "\n",
    "axes[3].matshow(answer,vmin=-1,vmax=1,cmap = 'seismic_r')\n",
    "state = np.array([-1,0,-1,0,0,0,1,1,0]).reshape((3,3))\n",
    "answer = np.array([-1,discount**2,-1,-discount,-discount,-discount,-1,-1,1]).reshape((3,3))\n",
    "opinion = policy.predict(state.reshape((1,9)))[0].reshape((3,3))\n",
    "sym = sym_policy(state,policy)\n",
    "\n",
    "#plt.figure(1)\n",
    "axes[4].matshow(state,vmin=-1,vmax=1,cmap = 'seismic')\n",
    "#ax1.set_aspect('equal')\n",
    "#plt.figure(2)\n",
    "axes[5].matshow(opinion,vmin=-1,vmax=1,cmap = 'seismic_r')\n",
    "\n",
    "axes[6].matshow(sym,vmin=-1,vmax=1,cmap = 'seismic_r')\n",
    "#ax1.set_aspect('equal')\n",
    "axes[7].matshow(answer,vmin=-1,vmax=1,cmap = 'seismic_r')\n",
    "state = np.array([-1,0,-1,-1,1,1,1,1,-1]).reshape((3,3))\n",
    "answer = np.array([-1,1,-1,-1,-1,-1,-1,-1,-1]).reshape((3,3))\n",
    "opinion = policy.predict(state.reshape((1,9)))[0].reshape((3,3))\n",
    "sym = sym_policy(state,policy)\n",
    "#plt.figure(1)\n",
    "axes[8].matshow(state,vmin=-1,vmax=1,cmap = 'seismic')\n",
    "#ax1.set_aspect('equal')\n",
    "#plt.figure(2)\n",
    "axes[9].matshow(opinion,vmin=-1,vmax=1,cmap = 'seismic_r')\n",
    "\n",
    "axes[10].matshow(sym,vmin=-1,vmax=1,cmap = 'seismic_r')\n",
    "#ax1.set_aspect('equal')\n",
    "axes[11].matshow(answer,vmin=-1,vmax=1,cmap = 'seismic_r')\n",
    "IPython.display.clear_output(wait=True)\n",
    "IPython.display.display(plt.gcf())"
   ]
  },
  {
   "cell_type": "code",
   "execution_count": null,
   "metadata": {
    "collapsed": false
   },
   "outputs": [],
   "source": [
    "from IPython.display import YouTubeVideo\n",
    "# a talk about IPython at Sage Days at U. Washington, Seattle.\n",
    "# Video credit: William Stein.\n",
    "YouTubeVideo('JNrXgpSEEIE',start = 28,width = 800,height = 600,)"
   ]
  },
  {
   "cell_type": "code",
   "execution_count": null,
   "metadata": {
    "collapsed": true
   },
   "outputs": [],
   "source": []
  }
 ],
 "metadata": {
  "kernelspec": {
   "display_name": "Python 2",
   "language": "python",
   "name": "python2"
  },
  "language_info": {
   "codemirror_mode": {
    "name": "ipython",
    "version": 2
   },
   "file_extension": ".py",
   "mimetype": "text/x-python",
   "name": "python",
   "nbconvert_exporter": "python",
   "pygments_lexer": "ipython2",
   "version": "2.7.11"
  }
 },
 "nbformat": 4,
 "nbformat_minor": 0
}
