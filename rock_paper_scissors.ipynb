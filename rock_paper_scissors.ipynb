{
 "cells": [
  {
   "cell_type": "code",
   "execution_count": null,
   "metadata": {
    "collapsed": false
   },
   "outputs": [],
   "source": [
    "from IPython.core.display import HTML\n",
    "HTML(\"\"\"\n",
    "<style>\n",
    "\n",
    "div.cell { /* Tunes the space between cells */\n",
    "margin-top:1em;\n",
    "margin-bottom:1em;\n",
    "}\n",
    "\n",
    "div.text_cell_render h1 { /* Main titles bigger, centered */\n",
    "font-size: 2.2em;\n",
    "line-height:1.4em;\n",
    "text-align:center;\n",
    "}\n",
    "\n",
    "div.text_cell_render h2 { /*  Parts names nearer from text */\n",
    "margin-bottom: -0.4em;\n",
    "}\n",
    "\n",
    "\n",
    "div.text_cell_render { /* Customize text cells */\n",
    "font-family: 'Times New Roman';\n",
    "font-size:1.5em;\n",
    "line-height:1.4em;\n",
    "padding-left:3em;\n",
    "padding-right:3em;\n",
    "}\n",
    "</style>\n",
    "\"\"\")"
   ]
  },
  {
   "cell_type": "code",
   "execution_count": null,
   "metadata": {
    "collapsed": false
   },
   "outputs": [],
   "source": [
    "import numpy as np\n",
    "from numpy import random\n",
    "import IPython\n",
    "import sys\n",
    "import matplotlib as mpl\n",
    "import matplotlib.pyplot as plt\n",
    "%matplotlib inline\n",
    "plt.rcParams['figure.figsize'] = (12, 12)\n",
    "\n",
    "import sys\n",
    "def progress_bar(percent, size = 20, message=''):\n",
    "    percent = int(percent)\n",
    "    fill = int(percent * size/100)\n",
    "    sys.stdout.write('\\r[' + 'X'*fill + ' '*(size-fill) + '] {:3d}% complete. '.format(percent) + message)\n",
    "    sys.stdout.flush"
   ]
  },
  {
   "cell_type": "markdown",
   "metadata": {},
   "source": [
    "# Rock Paper Scissors"
   ]
  },
  {
   "cell_type": "markdown",
   "metadata": {},
   "source": [
    "## Learning how to beat a predictable opponent"
   ]
  },
  {
   "cell_type": "markdown",
   "metadata": {},
   "source": [
    "A strategy in rock-paper-scissors consists of a probability distribution in which a player chooses their move. Rock paper scissors has a payout matrix given by\n",
    "\n",
    "$$M_{ij} = \\begin{matrix} &\\begin{matrix}\\text{rock}&\\text{paper}&\\text{scissors}\\end{matrix}\\\\ \\begin{matrix}\\text{rock} \\\\ \\text{paper} \\\\ \\text{scissors} \\end{matrix} & \\begin{pmatrix}\\quad \\pm0 \\quad&\\quad -1\\quad &\\quad +1\\quad \\\\+1 & \\pm0 & -1 \\\\-1 & +1 & \\pm0 \\end{pmatrix}\\end{matrix}$$.\n",
    "\n",
    "The rows represent player 1's moves while the columns represent player 2's moves. Once both players choose their move, player 1 is rewarded with the corresponding value in the payout matrix and player 2 is rewarded with the negative of player 1's reward (zero-sum). Player 2's payout matrix is $- M_{ji}$ the negative transpose of player 1's, but since the payout matrix is skew-symmetric $M_{ij} = - M_{ji}$, the payout matrices are the same (symmetric)."
   ]
  },
  {
   "cell_type": "code",
   "execution_count": null,
   "metadata": {
    "collapsed": false
   },
   "outputs": [],
   "source": [
    "def play(player1,player2):\n",
    "\n",
    "    r1=random.random()\n",
    "    for i,pi in enumerate(player1):\n",
    "        r1 -= pi\n",
    "        if r1 < 0:\n",
    "            move1 = i\n",
    "            break\n",
    "\n",
    "    r2=random.random()\n",
    "    for j,pj in enumerate(player2):\n",
    "        r2 -= pj\n",
    "        if r2 < 0:\n",
    "            move2 = j\n",
    "            break\n",
    "\n",
    "    return move1,move2\n",
    "TEMP = 0.25\n",
    "def softmax(ar):\n",
    "    ar = np.copy(ar)\n",
    "#    print ar\n",
    "    ar -= np.max(ar)\n",
    "    exp = np.exp(ar / TEMP)\n",
    "    return exp / np.sum(exp)\n",
    "\n",
    "def learn(player1,player2,payout,learning_rate=0.001, learn = [True,True],duration = 1000,print_freq = 100):\n",
    "    player1 = np.copy(player1)\n",
    "    player2 = np.copy(player2)\n",
    "    #learning_rate = 0.001\n",
    "    decay = 1 # 0.9995\n",
    "    p1_options = len(player1)\n",
    "    p2_options = len(player2)\n",
    "    history = [np.copy(player1)]\n",
    "    score = 0\n",
    "    cum_score = [0]\n",
    "    f,_= plt.subplots(1,3, sharey=True,figsize = (15,5))\n",
    "    ax1 = plt.subplot(131, aspect='equal', adjustable='datalim')\n",
    "    ax2 = plt.subplot(132, aspect = 1,adjustable='datalim')\n",
    "    ax3 = plt.subplot(133, aspect=1, adjustable='datalim')\n",
    "    for session in range(duration):\n",
    "        move1,move2 = play(softmax(player1),softmax(player2))\n",
    "        player1 *= decay\n",
    "        player2 *= decay\n",
    "        #print move1,move2,player1\n",
    "        if learn[0]:\n",
    "            player1[move1] = learning_rate*payout[move1,move2] + (1-learning_rate)*player1[move1]\n",
    "\n",
    "#             if np.sum(np.abs(player1)) <1:\n",
    "#                 player1 += np.ones(p1_options)*1.0/p1_options * (1 - np.sum(np.abs(player1)))\n",
    "                \n",
    "                \n",
    "        if learn[1]:\n",
    "            player2[move2] = learning_rate*payout[move2,move1] + (1-learning_rate)*player2[move2]\n",
    "\n",
    "#             if np.sum(np.abs(player2)) <1:\n",
    "#                 player2 += np.ones(p2_options)*1.0/p2_options * (1-np.sum(np.abs(player2)))\n",
    "\n",
    "        score += payout[move1,move2]\n",
    "        cum_score.append(score)\n",
    "\n",
    "        #print player1\n",
    "\n",
    "        #negativity control\n",
    "#         player1 = player1 * (player1>0)\n",
    "#         player2 = player2 * (player2>0)\n",
    "\n",
    "        #renormalize\n",
    "#         player1 = player1 / float(np.sum(np.abs(player1))) \n",
    "#         player2 = player2 / float(np.sum(np.abs(player2)))\n",
    "\n",
    "\n",
    "        if print_freq and session%print_freq==0:\n",
    "            \n",
    "            ax1.cla()\n",
    "            ax2.cla()\n",
    "            ax3.cla()\n",
    "            ax1.bar(np.arange(p1_options) + 0.5 , softmax(player1))\n",
    "            ax1.set_ylim(0,1)\n",
    "            \n",
    "            ax2.plot(cum_score , linewidth = 3)\n",
    "            \n",
    "            \n",
    "            ax3.bar(np.arange(p2_options) + 0.5 , softmax(player2))\n",
    "            ax3.set_ylim(0,1)\n",
    "\n",
    "            IPython.display.clear_output(wait=True)\n",
    "            IPython.display.display(plt.gcf())\n",
    "            \n",
    "        if not print_freq and session%1000==0:\n",
    "            #progress_bar(100.0 * session / duration , 50, \"current strategy: Rock:{:.3f}, Paper:{:.3f}, Scissors:{:.3f}\".format(\n",
    "            #    *player1))\n",
    "            fill = map(int,list(softmax(player1)*100))\n",
    "            sys.stdout.write((\"\\033[2A\\r    Rock : [\" + 'X'*fill[0] + ' '*(100-fill[0]) + '] ({:.3f})\\n' + \n",
    "                                       \"   Paper : [\" + 'X'*fill[1] + ' '*(100-fill[1]) + '] ({:.3f})\\n' + \n",
    "                                       \"Scissors : [\" + 'X'*fill[2] + ' '*(100-fill[2]) + '] ({:.3f})').format(*softmax(player1)))\n",
    "            IPython.display.clear_output(wait = True)\n",
    "    return player1\n"
   ]
  },
  {
   "cell_type": "code",
   "execution_count": null,
   "metadata": {
    "collapsed": true
   },
   "outputs": [],
   "source": [
    "payout = np.array([[ 0,-1, 1],\n",
    "                   [ 1, 0,-1],\n",
    "                   [-1, 1, 0]])\n",
    "player1 = np.array([0.0,1.0,0.0]).astype(float)\n",
    "player2 = np.array([0.0,0.0,1.0]).astype(float)"
   ]
  },
  {
   "cell_type": "markdown",
   "metadata": {},
   "source": [
    "In this example, player 2 will only be playing scissors, and player 1 will be learning how to beat player 2's strategy"
   ]
  },
  {
   "cell_type": "markdown",
   "metadata": {},
   "source": [
    "Let's see if player 1 can learn the optimal strategy to beat player 2. Player 1 will begin with the worst possible strategy, choosing paper every time. With the initial strategies, player 2 wins every game."
   ]
  },
  {
   "cell_type": "code",
   "execution_count": null,
   "metadata": {
    "collapsed": false
   },
   "outputs": [],
   "source": [
    "score = 0\n",
    "for _ in range(10000):\n",
    "    score += payout[play(player1,player2)]\n",
    "print \"player 1's score is : {}\".format(score)"
   ]
  },
  {
   "cell_type": "code",
   "execution_count": null,
   "metadata": {
    "collapsed": false
   },
   "outputs": [],
   "source": [
    "learn(player1,player2,payout,learn = [True,False],learning_rate = 0.003,duration = 2000,print_freq = 100)"
   ]
  },
  {
   "cell_type": "markdown",
   "metadata": {},
   "source": [
    "Great! But what if both players try to learn???"
   ]
  },
  {
   "cell_type": "code",
   "execution_count": null,
   "metadata": {
    "collapsed": false
   },
   "outputs": [],
   "source": [
    "learn(player1,player2,payout,learning_rate = 0.01,duration = 2000, print_freq = 25)"
   ]
  },
  {
   "cell_type": "markdown",
   "metadata": {},
   "source": [
    "We can actually get very good results if we just stop plotting, plotting is very expensive."
   ]
  },
  {
   "cell_type": "code",
   "execution_count": null,
   "metadata": {
    "collapsed": false
   },
   "outputs": [],
   "source": [
    "learn(player1,player2,payout,learning_rate = 0.0001,duration = 300000, print_freq = 0)"
   ]
  },
  {
   "cell_type": "markdown",
   "metadata": {},
   "source": [
    "Bonus question: what happens if we modify the payout matrix? What is the optimal strategy?"
   ]
  },
  {
   "cell_type": "code",
   "execution_count": null,
   "metadata": {
    "collapsed": false
   },
   "outputs": [],
   "source": [
    "payout = np.array([[ 0,-2, 1],\n",
    "                   [ 2, 0,-1],\n",
    "                   [-1, 1, 0]])\n",
    "#You get twice the payout for winning with paper\n",
    "\n",
    "softmax(learn(player1,player2,payout,learning_rate = 0.00001,duration = 1000000,print_freq= 0 ))"
   ]
  },
  {
   "cell_type": "code",
   "execution_count": null,
   "metadata": {
    "collapsed": true
   },
   "outputs": [],
   "source": []
  }
 ],
 "metadata": {
  "kernelspec": {
   "display_name": "Python 2",
   "language": "python",
   "name": "python2"
  },
  "language_info": {
   "codemirror_mode": {
    "name": "ipython",
    "version": 2
   },
   "file_extension": ".py",
   "mimetype": "text/x-python",
   "name": "python",
   "nbconvert_exporter": "python",
   "pygments_lexer": "ipython2",
   "version": "2.7.11"
  }
 },
 "nbformat": 4,
 "nbformat_minor": 0
}
