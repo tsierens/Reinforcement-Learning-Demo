{
 "cells": [
  {
   "cell_type": "code",
   "execution_count": 1,
   "metadata": {
    "collapsed": false
   },
   "outputs": [],
   "source": [
    "import numpy as np\n",
    "import sknn\n",
    "from sknn import mlp\n",
    "import tic_tac_toe as ttt\n",
    "from numpy import random\n",
    "import IPython\n",
    "import matplotlib as mpl\n",
    "import matplotlib.pyplot as plt\n",
    "%matplotlib inline\n",
    "plt.rcParams['figure.figsize'] = (12, 12)"
   ]
  },
  {
   "cell_type": "code",
   "execution_count": 2,
   "metadata": {
    "collapsed": false
   },
   "outputs": [
    {
     "name": "stderr",
     "output_type": "stream",
     "text": [
      "/opt/conda/lib/python2.7/site-packages/theano/tensor/signal/downsample.py:6: UserWarning: downsample module has been moved to the theano.tensor.signal.pool module.\n",
      "  \"downsample module has been moved to the theano.tensor.signal.pool module.\")\n"
     ]
    },
    {
     "data": {
      "text/plain": [
       "Regressor(batch_size=10, callback=None, debug=False, dropout_rate=None,\n",
       "     f_stable=0.001,\n",
       "     hidden0=<sknn.nn.Layer `Rectifier`: units=1000, name=u'hidden0', frozen=False>,\n",
       "     layers=[<sknn.nn.Layer `Rectifier`: units=1000, name=u'hidden0', frozen=False>, <sknn.nn.Layer `Tanh`: units=9, name=u'output', frozen=False>],\n",
       "     learning_momentum=0.9, learning_rate=0.05, learning_rule=u'sgd',\n",
       "     loss_type=None, n_iter=1, n_stable=10, normalize=None,\n",
       "     output=<sknn.nn.Layer `Tanh`: units=9, name=u'output', frozen=False>,\n",
       "     parameters=None, random_state=None, regularize=None, valid_set=None,\n",
       "     valid_size=0.0, verbose=None, warning=None, weight_decay=None)"
      ]
     },
     "execution_count": 2,
     "metadata": {},
     "output_type": "execute_result"
    }
   ],
   "source": [
    "value = mlp.Regressor([mlp.Layer('Rectifier',units = 200),\n",
    "               mlp.Layer('Tanh',units = 1)],\n",
    "              learning_rate = 0.001,\n",
    "              batch_size = 1,\n",
    "              n_iter = 1)\n",
    "value.fit(np.zeros((16,9)) , np.zeros(16))\n",
    "\n",
    "policy = mlp.Regressor([mlp.Layer('Rectifier',units = 1000),\n",
    "               mlp.Layer('Tanh',units = 9)],\n",
    "              learning_rate = 0.05,\n",
    "              batch_size = 10,\n",
    "              n_iter = 1)\n",
    "policy.fit(np.zeros((1,9)) , np.zeros((1,9)))"
   ]
  },
  {
   "cell_type": "code",
   "execution_count": 3,
   "metadata": {
    "collapsed": false
   },
   "outputs": [],
   "source": [
    "Temp = 0.1\n",
    "class value_bot():\n",
    "    def __init__(self, value):\n",
    "        self.value = value\n",
    "    def make_move(self,board,turn):\n",
    "        return value_move(board,turn,self.value)\n",
    "def value_move(board,turn,value):\n",
    "    board = np.copy(board)\n",
    "    if turn == -1:\n",
    "        board = -1 * board\n",
    "    options = ttt.available_moves(board)\n",
    "    values = {}\n",
    "    for move in options:\n",
    "        ttt.update_move(board,move,1)\n",
    "        if ttt.is_over(board):\n",
    "            values[move] = ttt.winner(board)\n",
    "        else:\n",
    "            values[move] = -1 * value.predict(-1 * board.reshape((1,9)))[0]\n",
    "        ttt.unupdate_move(board,move)\n",
    "    action_values = values.items()\n",
    "    probs = softmax(np.array(zip(*action_values)[1]))\n",
    "    r = random.random()\n",
    "    for i in range(len(probs)):\n",
    "        r-=probs[i]\n",
    "        if r <0:\n",
    "            move = i\n",
    "            break\n",
    "    return action_values[move]\n",
    "        \n",
    "class policy_bot():\n",
    "    def __init__(self, policy):\n",
    "        self.policy = policy\n",
    "    def make_move(self,board,turn):\n",
    "        return policy_move(board,turn,self.policy)\n",
    "def policy_move(board,turn,policy):\n",
    "    board = np.copy(board)\n",
    "    if turn == -1:\n",
    "        board = -1 * board\n",
    "    action_values = zip(range(9),list(policy.predict(board.reshape(1,(9)))[0]))\n",
    "    #print action_values\n",
    "    probs = softmax(np.array(zip(*action_values)[1]))\n",
    "    #print probs\n",
    "    r = random.random()\n",
    "    for i in range(len(probs)):\n",
    "        r-=probs[i]\n",
    "        if r <0:\n",
    "            move = i\n",
    "            break\n",
    "    return action_values[move]\n",
    "\n",
    "def sym_policy(state,policy):\n",
    "    state = state.reshape((3,3))\n",
    "    states = [np.copy(state), np.copy(state.T)]\n",
    "    for i in range(3):\n",
    "        state = np.rot90(state)\n",
    "        states += [np.copy(state),np.copy(state.T)]\n",
    "    states = np.array(states)\n",
    "    pols = policy.predict(states).reshape(8,3,3)\n",
    "    pols[1] = pols[1].T\n",
    "    pols[2] = np.rot90(pols[2],3)\n",
    "    pols[3] = np.rot90(pols[3].T,3)\n",
    "    pols[4] = np.rot90(pols[4],2)\n",
    "    pols[5] = np.rot90(pols[5].T,2)\n",
    "    pols[6] = np.rot90(pols[6],1)\n",
    "    pols[7] = np.rot90(pols[7].T,1)\n",
    "    vals = sum(pols) * 0.125\n",
    "    return vals\n",
    "    \n",
    "def softmax(ar):\n",
    "#    print ar\n",
    "    ar -= np.max(ar)\n",
    "    exp = np.exp(ar / Temp)\n",
    "    return exp / np.sum(exp)"
   ]
  },
  {
   "cell_type": "code",
   "execution_count": 4,
   "metadata": {
    "collapsed": true
   },
   "outputs": [],
   "source": [
    "replay = []\n",
    "history = []\n",
    "discount = 1\n",
    "X_train= []\n",
    "y_train=[]\n",
    "rewards = []\n",
    "actions = []"
   ]
  },
  {
   "cell_type": "code",
   "execution_count": 4,
   "metadata": {
    "collapsed": false
   },
   "outputs": [
    {
     "data": {
      "image/png": "[encoded data removed]",
      "text/plain": [
       "<matplotlib.figure.Figure at 0x7fcd6d811d90>"
      ]
     },
     "metadata": {},
     "output_type": "display_data"
    },
    {
     "name": "stderr",
     "output_type": "stream",
     "text": [
      "\n",
      "KeyboardInterrupt\n"
     ]
    },
    {
     "ename": "KeyboardInterrupt",
     "evalue": "",
     "output_type": "error",
     "traceback": [
      "Traceback (most recent call last):\n",
      "  File \"/opt/conda/lib/python2.7/site-packages/ipykernel/ipkernel.py\", line 199, in do_execute\n    shell.run_cell(code, store_history=store_history, silent=silent)\n",
      "  File \"/opt/conda/lib/python2.7/site-packages/IPython/core/interactiveshell.py\", line 2729, in run_cell\n    self.events.trigger('post_execute')\n",
      "  File \"/opt/conda/lib/python2.7/site-packages/IPython/core/events.py\", line 74, in trigger\n    func(*args, **kwargs)\n",
      "  File \"/opt/conda/lib/python2.7/site-packages/matplotlib/pyplot.py\", line 147, in post_execute\n    draw_all()\n",
      "  File \"/opt/conda/lib/python2.7/site-packages/matplotlib/_pylab_helpers.py\", line 150, in draw_all\n    f_mgr.canvas.draw_idle()\n",
      "  File \"/opt/conda/lib/python2.7/site-packages/matplotlib/backend_bases.py\", line 2026, in draw_idle\n    self.draw(*args, **kwargs)\n",
      "  File \"/opt/conda/lib/python2.7/site-packages/matplotlib/backends/backend_agg.py\", line 474, in draw\n    self.figure.draw(self.renderer)\n",
      "  File \"/opt/conda/lib/python2.7/site-packages/matplotlib/artist.py\", line 61, in draw_wrapper\n    draw(artist, renderer, *args, **kwargs)\n",
      "  File \"/opt/conda/lib/python2.7/site-packages/matplotlib/figure.py\", line 1159, in draw\n    func(*args)\n",
      "  File \"/opt/conda/lib/python2.7/site-packages/matplotlib/artist.py\", line 61, in draw_wrapper\n    draw(artist, renderer, *args, **kwargs)\n",
      "  File \"/opt/conda/lib/python2.7/site-packages/matplotlib/text.py\", line 796, in draw\n    ismath=ismath, mtext=mtext)\n",
      "  File \"/opt/conda/lib/python2.7/site-packages/matplotlib/backends/backend_agg.py\", line 212, in draw_text\n    font, round(x - xd + xo), round(y + yd + yo) + 1, angle, gc)\n",
      "KeyboardInterrupt\n"
     ]
    }
   ],
   "source": [
    "import time\n",
    "for game in range(1000000):\n",
    "    \n",
    "        \n",
    "    result = {'log' : [],\n",
    "              'winner' : None,\n",
    "              'boards' :[]}\n",
    "    board = ttt.empty_board()\n",
    "    turn = 1\n",
    "    t0 = time.clock()\n",
    "    while not ttt.is_over(board):\n",
    "        result['boards'].append(np.copy(board))\n",
    "        old_board = np.copy(board)\n",
    "        action,value = policy_move(board,1,policy)\n",
    "        result['log'] += [action]\n",
    "        if board[action] == 0:\n",
    "            ttt.update_move(board,action,1)\n",
    "        else:\n",
    "            result['winner'] = -1*turn\n",
    "            break\n",
    "        if ttt.is_over(board):\n",
    "            result['winner'] = turn * ttt.winner(board)\n",
    "        board = -1 * board\n",
    "        turn =  -1 * turn\n",
    "    t1 = time.clock()\n",
    "    \n",
    "#     history.append(result)\n",
    "    train_index = random.randint(0, len(result['log']))\n",
    "    train_action = result['log'][train_index]\n",
    "    train_board = result['boards'][train_index]\n",
    "    reward = result['winner'] * (1 - (train_index%2) * 2)  #swap result if board is from player 2's perspective\n",
    "    \n",
    "    ############################################################\n",
    "    #################### train on the result ###################\n",
    "    ############################################################\n",
    "\n",
    "    X_train.append(train_board)\n",
    "    rewards.append(reward)\n",
    "    actions.append(train_action)\n",
    "    \n",
    "    if len(X_train) >=100:\n",
    "        y_train = map(lambda x: policy.predict(x.reshape((1,9)))[0] , X_train)\n",
    "        for i , tar in enumerate(y_train):\n",
    "            tar[actions[i]] = rewards[i]\n",
    "        \n",
    "        #replay += zip(X_train,y_train)\n",
    "        \n",
    "        policy.fit(np.array(X_train),np.array(y_train))\n",
    "        value.fit(np.array(X_train),np.array(rewards))\n",
    "        X_train = []\n",
    "        rewards = []\n",
    "        actions = []\n",
    "    t2 = time.clock()\n",
    "    #print 'game time = {}, train time = {}'.format(t1-t0,t2-t1)\n",
    "    \n",
    "    if game%1000 == 0:\n",
    "        f, ((ax11, ax12 ,ax13,ax14),(ax21, ax22 ,ax23,ax24),(ax31, ax32 ,ax33,ax34)) = plt.subplots(3, 4, sharey=True)\n",
    "        f.suptitle(\"Games Played: {:d}\".format(game),fontsize = 36)\n",
    "        state = np.array([0,0,0,0,-1,0,0,0,0]).reshape((3,3))\n",
    "        answer = np.array([0,-1,0,-1,-1,-1,0,-1,0]).reshape((3,3))\n",
    "        opinion = policy.predict(state.reshape((1,9)))[0].reshape((3,3))\n",
    "        sym = sym_policy(state,policy)\n",
    "        ax1 = plt.subplot(341, aspect='equal', adjustable='box-forced')\n",
    "        #plt.figure(1)\n",
    "        ax1.matshow(state,vmin=-1,vmax=1,cmap = 'seismic')\n",
    "        #ax1.set_aspect('equal')\n",
    "        #plt.figure(2)\n",
    "        ax2 = plt.subplot(342, aspect='equal', adjustable='box-forced')\n",
    "        ax2.matshow(opinion,vmin=-1,vmax=1,cmap = 'seismic_r')\n",
    "        \n",
    "        ax3 = plt.subplot(343,aspect='equal', adjustable='box-forced')\n",
    "        ax3.matshow(sym,vmin=-1,vmax=1,cmap = 'seismic_r')\n",
    "        #ax1.set_aspect('equal')\n",
    "        ax4 = plt.subplot(344, aspect='equal', adjustable='box-forced')\n",
    "        ax4.matshow(answer,vmin=-1,vmax=1,cmap = 'seismic_r')\n",
    "        state = np.array([-1,0,-1,0,0,0,1,1,0]).reshape((3,3))\n",
    "        answer = np.array([-1,discount**2,-1,-discount,-discount,-discount,-1,-1,1]).reshape((3,3))\n",
    "        opinion = policy.predict(state.reshape((1,9)))[0].reshape((3,3))\n",
    "        sym = sym_policy(state,policy)\n",
    "        ax1 = plt.subplot(345, aspect='equal', adjustable='box-forced')\n",
    "        #plt.figure(1)\n",
    "        ax1.matshow(state,vmin=-1,vmax=1,cmap = 'seismic')\n",
    "        #ax1.set_aspect('equal')\n",
    "        #plt.figure(2)\n",
    "        ax2 = plt.subplot(346, aspect='equal', adjustable='box-forced')\n",
    "        ax2.matshow(opinion,vmin=-1,vmax=1,cmap = 'seismic_r')\n",
    "        \n",
    "        ax3 = plt.subplot(347,aspect='equal', adjustable='box-forced')\n",
    "        ax3.matshow(sym,vmin=-1,vmax=1,cmap = 'seismic_r')\n",
    "        #ax1.set_aspect('equal')\n",
    "        ax4 = plt.subplot(348, aspect='equal', adjustable='box-forced')\n",
    "        ax4.matshow(answer,vmin=-1,vmax=1,cmap = 'seismic_r')\n",
    "        state = np.array([-1,0,-1,-1,1,1,1,1,-1]).reshape((3,3))\n",
    "        answer = np.array([-1,1,-1,-1,-1,-1,-1,-1,-1]).reshape((3,3))\n",
    "        opinion = policy.predict(state.reshape((1,9)))[0].reshape((3,3))\n",
    "        sym = sym_policy(state,policy)\n",
    "        ax1 = plt.subplot(349, aspect='equal', adjustable='box-forced')\n",
    "        #plt.figure(1)\n",
    "        ax1.matshow(state,vmin=-1,vmax=1,cmap = 'seismic')\n",
    "        #ax1.set_aspect('equal')\n",
    "        #plt.figure(2)\n",
    "        ax2 = plt.subplot(3,4,10, aspect='equal', adjustable='box-forced')\n",
    "        ax2.matshow(opinion,vmin=-1,vmax=1,cmap = 'seismic_r')\n",
    "        \n",
    "        ax3 = plt.subplot(3,4,11,aspect='equal', adjustable='box-forced')\n",
    "        ax3.matshow(sym,vmin=-1,vmax=1,cmap = 'seismic_r')\n",
    "        #ax1.set_aspect('equal')\n",
    "        ax4 = plt.subplot(3,4,12, aspect='equal', adjustable='box-forced')\n",
    "        ax4.matshow(answer,vmin=-1,vmax=1,cmap = 'seismic_r')\n",
    "        IPython.display.clear_output(wait=True)\n",
    "        IPython.display.display(plt.gcf())\n",
    "        \n",
    "        with open('value_policy','wb') as file_:\n",
    "            pickle.dump((value,policy),file_)"
   ]
  },
  {
   "cell_type": "code",
   "execution_count": 7,
   "metadata": {
    "collapsed": false
   },
   "outputs": [
    {
     "data": {
      "text/plain": [
       "[(array([-0., -1., -0., -0., -0., -0., -0., -0., -0.]),\n",
       "  array([ 1.        , -0.03054351, -0.01078792, -0.08408753, -0.13893992,\n",
       "         -0.0126765 , -0.08244263,  0.06219965, -0.03752779])),\n",
       " (array([ 0.,  0.,  0., -1.,  0.,  0.,  1.,  0.,  0.]),\n",
       "  array([-0.00495313, -0.07729124, -0.02833354, -0.09278108,  1.        ,\n",
       "         -0.02798372,  0.00971058, -0.09674831, -0.08566277])),\n",
       " (array([ 0.,  0.,  0.,  0.,  0.,  0.,  0.,  0.,  0.]),\n",
       "  array([-0.01661355,  1.        , -0.04110643, -0.05445387, -0.03595169,\n",
       "         -0.04535099, -0.0167839 , -0.05210524, -0.0312119 ])),\n",
       " (array([ 1.,  0.,  0.,  0., -1.,  0.,  0.,  0.,  0.]),\n",
       "  array([-0.10347975, -0.00880755, -0.08574023, -0.03665584, -1.        ,\n",
       "         -0.0104083 , -0.00524265,  0.02384697, -0.10020579])),\n",
       " (array([ 0.,  0.,  0.,  0.,  0.,  0.,  0.,  0.,  0.]),\n",
       "  array([-0.01661355, -0.02555779, -0.04110643, -0.05445387, -1.        ,\n",
       "         -0.04535099, -0.0167839 , -0.05210524, -0.0312119 ])),\n",
       " (array([-0., -0., -0., -0., -1., -0., -0., -0., -0.]),\n",
       "  array([-0.0709746 , -0.02634592, -0.06865566,  0.01217673, -0.06626544,\n",
       "          0.01470168,  1.        , -0.00625769, -0.09224705])),\n",
       " (array([-0., -0., -0., -1., -0., -0., -0., -0., -0.]),\n",
       "  array([ 0.01709421, -0.02356852, -0.09181513, -1.        ,  0.02878647,\n",
       "         -0.04223831, -0.04114416, -0.04802042, -0.07950914])),\n",
       " (array([ 0., -1.,  0.,  0.,  0.,  1.,  0.,  0.,  0.]),\n",
       "  array([ 0.01366305, -0.03885137, -0.01700165, -0.08051905, -0.10917844,\n",
       "         -1.        , -0.12401337,  0.02033413, -0.12145168])),\n",
       " (array([-0., -0., -0., -1., -0., -0., -0., -0., -0.]),\n",
       "  array([ 0.01709421, -0.02356852, -0.09181513, -0.10723129,  0.02878647,\n",
       "         -0.04223831, -1.        , -0.04802042, -0.07950914])),\n",
       " (array([ 0., -1.,  0.,  0.,  0.,  1.,  0.,  0.,  0.]),\n",
       "  array([ 0.01556085, -0.04288336, -0.01801996, -0.08357247,  1.        ,\n",
       "         -0.07172059, -0.1251552 ,  0.01693614, -0.12158479]))]"
      ]
     },
     "execution_count": 7,
     "metadata": {},
     "output_type": "execute_result"
    }
   ],
   "source": [
    "replay[-10:]"
   ]
  },
  {
   "cell_type": "code",
   "execution_count": 22,
   "metadata": {
    "collapsed": false
   },
   "outputs": [
    {
     "data": {
      "text/plain": [
       "array([[-0.11041373, -0.71380592, -0.75569149, -0.46245245,  0.50446609,\n",
       "        -0.10476599, -0.15263337,  0.19267946, -0.08474264]])"
      ]
     },
     "execution_count": 22,
     "metadata": {},
     "output_type": "execute_result"
    }
   ],
   "source": [
    "policy.predict(np.array([[0,1,-1,0,0,0,0,0,0]]))"
   ]
  },
  {
   "cell_type": "code",
   "execution_count": 34,
   "metadata": {
    "collapsed": false
   },
   "outputs": [
    {
     "data": {
      "text/plain": [
       "array([[-0.2049588 , -0.64113543, -0.74969972],\n",
       "       [-0.30914924,  0.48525862, -0.13522246],\n",
       "       [-0.08764903,  0.14253198, -0.01698904]])"
      ]
     },
     "execution_count": 34,
     "metadata": {},
     "output_type": "execute_result"
    }
   ],
   "source": [
    "sym_policy(np.array([[0,1,-1,0,0,0,0,0,0]]),policy)"
   ]
  },
  {
   "cell_type": "code",
   "execution_count": null,
   "metadata": {
    "collapsed": true
   },
   "outputs": [],
   "source": []
  }
 ],
 "metadata": {
  "kernelspec": {
   "display_name": "Python 2",
   "language": "python",
   "name": "python2"
  },
  "language_info": {
   "codemirror_mode": {
    "name": "ipython",
    "version": 2
   },
   "file_extension": ".py",
   "mimetype": "text/x-python",
   "name": "python",
   "nbconvert_exporter": "python",
   "pygments_lexer": "ipython2",
   "version": "2.7.11"
  }
 },
 "nbformat": 4,
 "nbformat_minor": 0
}
